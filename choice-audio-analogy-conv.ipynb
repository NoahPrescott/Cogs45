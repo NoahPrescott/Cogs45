{
 "cells": [
  {
   "cell_type": "markdown",
   "id": "7fa30d11",
   "metadata": {},
   "source": [
    "# Forced Choice Audio Analogy ConvNet\n",
    "This notebook has a model trained on an audio analogy task:\n",
    "`A : B :: C : ?`, where D must be selected from a set to reflect the same interval transformation A→B, applied to C. It selects D from a set of candidate options.\n"
   ]
  },
  {
   "cell_type": "code",
   "execution_count": null,
   "id": "44e49d6a",
   "metadata": {},
   "outputs": [],
   "source": [
    "import torch\n",
    "import torch.nn as nn\n",
    "import torch.nn.functional as F\n",
    "import torchaudio\n",
    "import torchaudio.transforms as T\n",
    "import numpy as np\n",
    "import random\n",
    "import matplotlib.pyplot as plt\n",
    "import pandas as pd\n",
    "import time\n",
    "from collections import defaultdict\n",
    "from sklearn.metrics import accuracy_score\n",
    "from scipy.stats import ttest_ind"
   ]
  },
  {
   "cell_type": "code",
   "execution_count": null,
   "id": "1b35797b",
   "metadata": {},
   "outputs": [],
   "source": [
    "# config\n",
    "SAMPLE_RATE = 16000\n",
    "DURATION = 1.0\n",
    "N_MELS = 64\n",
    "N_FFT = 1024\n",
    "HOP_LENGTH = 256\n",
    "X_CHOICES = 8  # number of candidate choices\n",
    "TRAIN_RANGE = (60, 84)  # MIDI notes from C4 to B5\n",
    "TEST_RANGE = (36, 60)   # MIDI notes from C2 to B3\n",
    "INTERVALS = list(range(1, 13))\n",
    "DEVICE = torch.device(\"cuda\" if torch.cuda.is_available() else \"cpu\")\n",
    "EPOCHS = 10"
   ]
  },
  {
   "cell_type": "code",
   "execution_count": null,
   "id": "2d00932a",
   "metadata": {},
   "outputs": [],
   "source": [
    "# audio utilities\n",
    "def synthesize_note(midi_note):\n",
    "    freq = 440.0 * (2 ** ((midi_note - 69) / 12))\n",
    "    t = torch.linspace(0, DURATION, int(SAMPLE_RATE * DURATION))\n",
    "    waveform = 0.5 * torch.sin(2 * np.pi * freq * t)\n",
    "    return waveform.unsqueeze(0)\n",
    "\n",
    "mel_transform = T.MelSpectrogram(\n",
    "    sample_rate=SAMPLE_RATE,\n",
    "    n_fft=N_FFT,\n",
    "    hop_length=HOP_LENGTH,\n",
    "    n_mels=N_MELS\n",
    ")\n",
    "db_transform = T.AmplitudeToDB()\n",
    "\n",
    "def note_to_mel(midi_note):\n",
    "    wav = synthesize_note(midi_note)\n",
    "    mel = mel_transform(wav)\n",
    "    mel_db = db_transform(mel).squeeze(0)\n",
    "    mel_db = (mel_db - mel_db.mean()) / mel_db.std()  # Normalization\n",
    "    return mel_db"
   ]
  },
  {
   "cell_type": "code",
   "execution_count": null,
   "id": "420a23f7",
   "metadata": {},
   "outputs": [],
   "source": [
    "# model\n",
    "class CNNEncoder(nn.Module):\n",
    "    def __init__(self):\n",
    "        super().__init__()\n",
    "        self.conv = nn.Sequential(\n",
    "            nn.Conv2d(1, 32, kernel_size=3, padding=1),\n",
    "            nn.ReLU(),\n",
    "            nn.MaxPool2d(2),\n",
    "            nn.Conv2d(32, 64, kernel_size=3, padding=1),\n",
    "            nn.ReLU(),\n",
    "            nn.AdaptiveAvgPool2d((4, 4))\n",
    "        )\n",
    "        self.fc = nn.Linear(64 * 4 * 4, 128)\n",
    "\n",
    "    def forward(self, x):\n",
    "        x = self.conv(x)\n",
    "        x = x.view(x.size(0), -1)\n",
    "        return self.fc(x)\n",
    "\n",
    "class AnalogyModel(nn.Module):\n",
    "    def __init__(self):\n",
    "        super().__init__()\n",
    "        self.encoder = CNNEncoder()\n",
    "\n",
    "    def forward(self, A, B, C, D_choices):\n",
    "        A_feat = self.encoder(A)\n",
    "        B_feat = self.encoder(B)\n",
    "        C_feat = self.encoder(C)\n",
    "\n",
    "        analogy_vec = B_feat - A_feat + C_feat\n",
    "\n",
    "        B, N, C1, H, W = D_choices.shape\n",
    "        D_choices_flat = D_choices.view(B * N, C1, H, W)\n",
    "        D_feats = self.encoder(D_choices_flat)\n",
    "        D_feats = D_feats.view(B, N, -1)\n",
    "\n",
    "        scores = torch.matmul(D_feats, analogy_vec.unsqueeze(-1)).squeeze(-1)\n",
    "        return scores"
   ]
  },
  {
   "cell_type": "code",
   "execution_count": null,
   "id": "50a7896e",
   "metadata": {},
   "outputs": [],
   "source": [
    "# data generation\n",
    "def generate_example(note_range, interval, x_choices=X_CHOICES):\n",
    "    A = random.choice(range(note_range[0], note_range[1] - interval))\n",
    "    B = A + interval\n",
    "    C = random.choice(range(note_range[0], note_range[1] - interval))\n",
    "    D = C + interval\n",
    "\n",
    "    A_mel = note_to_mel(A)\n",
    "    B_mel = note_to_mel(B)\n",
    "    C_mel = note_to_mel(C)\n",
    "    D_true_mel = note_to_mel(D)\n",
    "\n",
    "    choices = [D_true_mel]\n",
    "    distractor_midi_notes = set()\n",
    "    while len(choices) < x_choices:\n",
    "        offset = random.choice([i for i in range(-6, 7) if i != 0])\n",
    "        wrong = D + offset\n",
    "        if wrong == D or abs(wrong - D) == 12:\n",
    "            continue\n",
    "        if wrong in distractor_midi_notes:\n",
    "            continue\n",
    "        distractor_midi_notes.add(wrong)\n",
    "        choices.append(note_to_mel(wrong))\n",
    "\n",
    "    random.shuffle(choices)\n",
    "    label = next(i for i, d in enumerate(choices) if torch.allclose(d, D_true_mel, atol=1e-5))\n",
    "    return A_mel, B_mel, C_mel, torch.stack(choices), label, interval\n",
    "\n",
    "def generate_dataset(note_range, n_per_interval=100):\n",
    "    data = []\n",
    "    for interval in INTERVALS:\n",
    "        for _ in range(n_per_interval):\n",
    "            data.append(generate_example(note_range, interval))\n",
    "    random.shuffle(data)\n",
    "    return data"
   ]
  },
  {
   "cell_type": "code",
   "execution_count": null,
   "id": "bb6e51b6",
   "metadata": {},
   "outputs": [],
   "source": [
    "# training and evaluation\n",
    "def collate_fn(batch):\n",
    "    A, B, C, D_choices, labels, _ = zip(*batch)\n",
    "    A = torch.stack([x.unsqueeze(0) if x.ndim == 2 else x for x in A]).to(DEVICE)\n",
    "    B = torch.stack([x.unsqueeze(0) if x.ndim == 2 else x for x in B]).to(DEVICE)\n",
    "    C = torch.stack([x.unsqueeze(0) if x.ndim == 2 else x for x in C]).to(DEVICE)\n",
    "    D_choices = torch.stack([\n",
    "        torch.stack([d.unsqueeze(0) if d.ndim == 2 else d for d in choices])\n",
    "        for choices in D_choices\n",
    "    ]).to(DEVICE)\n",
    "    labels = torch.tensor(labels).to(DEVICE)\n",
    "    return A, B, C, D_choices, labels\n",
    "\n",
    "def train_model(model, train_data, epochs=EPOCHS, batch_size=16):\n",
    "    optimizer = torch.optim.Adam(model.parameters(), lr=1e-3)\n",
    "    criterion = nn.CrossEntropyLoss()\n",
    "    model.train()\n",
    "    for epoch in range(epochs):\n",
    "        start = time.time()\n",
    "        random.shuffle(train_data)\n",
    "        total_loss, total_correct = 0, 0\n",
    "        for i in range(0, len(train_data), batch_size):\n",
    "            batch = train_data[i:i + batch_size]\n",
    "            A, B, C, D_choices, labels = collate_fn(batch)\n",
    "            optimizer.zero_grad()\n",
    "            scores = model(A, B, C, D_choices)\n",
    "            loss = criterion(scores, labels)\n",
    "            loss.backward()\n",
    "            optimizer.step()\n",
    "            total_loss += loss.item()\n",
    "            preds = scores.argmax(dim=1)\n",
    "            total_correct += (preds == labels).sum().item()\n",
    "        print(f\"Epoch {epoch+1}: Loss = {total_loss:.4f}, Accuracy = {total_correct / len(train_data):.4f}, Time = {time.time() - start:.2f}s\")\n",
    "\n",
    "def evaluate_model(model, note_range):\n",
    "    model.eval()\n",
    "    interval_results = []\n",
    "    with torch.no_grad():\n",
    "        for interval in INTERVALS:\n",
    "            correct = 0\n",
    "            trials = 100\n",
    "            start = time.time()\n",
    "            for _ in range(trials):\n",
    "                A, B, C, D_choices, label, _ = generate_example(note_range, interval)\n",
    "                A = A.unsqueeze(0).unsqueeze(0).to(DEVICE)\n",
    "                B = B.unsqueeze(0).unsqueeze(0).to(DEVICE)\n",
    "                C = C.unsqueeze(0).unsqueeze(0).to(DEVICE)\n",
    "                D_choices = D_choices.unsqueeze(0).unsqueeze(2).to(DEVICE)\n",
    "                scores = model(A, B, C, D_choices)\n",
    "                pred = scores.argmax(dim=1).item()\n",
    "                is_correct = int(pred == label)\n",
    "                correct += is_correct\n",
    "            acc = correct / trials\n",
    "            print(f\"Interval {interval}: Accuracy = {acc:.4f}, Time = {time.time() - start:.2f}s\")\n",
    "            interval_results.append({\"Interval\": interval, \"Accuracy\": acc})\n",
    "\n",
    "    df = pd.DataFrame(interval_results)\n",
    "    df.to_csv(\"interval_accuracy_across_octaves.csv\", index=False)\n",
    "    plt.figure(figsize=(10, 6))\n",
    "    plt.bar(df[\"Interval\"], df[\"Accuracy\"], color=\"purple\")\n",
    "    plt.xlabel(\"Interval (semitones)\")\n",
    "    plt.ylabel(\"Accuracy\")\n",
    "    plt.title(\"Generalization Accuracy by Interval (Train: C4+, Test: C2-C4)\")\n",
    "    plt.xticks(df[\"Interval\"])\n",
    "    plt.tight_layout()\n",
    "    plt.savefig(\"interval_accuracy_across_octaves.png\")\n",
    "    plt.show()"
   ]
  },
  {
   "cell_type": "code",
   "execution_count": 10,
   "id": "46c26e89",
   "metadata": {},
   "outputs": [],
   "source": [
    "# main functions\n",
    "def run_train_and_save():\n",
    "    print(\"Generating training data...\")\n",
    "    train_data = generate_dataset(TRAIN_RANGE, n_per_interval=100)\n",
    "    model = AnalogyModel().to(DEVICE)\n",
    "    print(\"Training full model...\")\n",
    "    train_model(model, train_data)\n",
    "    torch.save(model.state_dict(), \"choice_model.pt\")   # save model\n",
    "    print(\"✅ Model trained and saved.\")\n",
    "\n",
    "def run_evaluate_saved_model():\n",
    "    model = AnalogyModel().to(DEVICE)\n",
    "    model.load_state_dict(torch.load(\"mini_trained_analogy_model.pt\", map_location=DEVICE))  # load model\n",
    "    print(\"Evaluating on lower octave interval generalization...\")\n",
    "    evaluate_model(model, TEST_RANGE)\n"
   ]
  },
  {
   "cell_type": "code",
   "execution_count": 11,
   "id": "bfe01c80",
   "metadata": {},
   "outputs": [
    {
     "name": "stdout",
     "output_type": "stream",
     "text": [
      "Generating training data...\n"
     ]
    },
    {
     "ename": "KeyboardInterrupt",
     "evalue": "",
     "output_type": "error",
     "traceback": [
      "\u001b[0;31m---------------------------------------------------------------------------\u001b[0m",
      "\u001b[0;31mKeyboardInterrupt\u001b[0m                         Traceback (most recent call last)",
      "Cell \u001b[0;32mIn[11], line 1\u001b[0m\n\u001b[0;32m----> 1\u001b[0m run_train_and_save()\n",
      "Cell \u001b[0;32mIn[10], line 196\u001b[0m, in \u001b[0;36mrun_train_and_save\u001b[0;34m()\u001b[0m\n\u001b[1;32m    194\u001b[0m \u001b[39mdef\u001b[39;00m \u001b[39mrun_train_and_save\u001b[39m():\n\u001b[1;32m    195\u001b[0m     \u001b[39mprint\u001b[39m(\u001b[39m\"\u001b[39m\u001b[39mGenerating training data...\u001b[39m\u001b[39m\"\u001b[39m)\n\u001b[0;32m--> 196\u001b[0m     train_data \u001b[39m=\u001b[39m generate_dataset(TRAIN_RANGE, n_per_interval\u001b[39m=\u001b[39;49m\u001b[39m100\u001b[39;49m)\n\u001b[1;32m    197\u001b[0m     model \u001b[39m=\u001b[39m AnalogyModel()\u001b[39m.\u001b[39mto(DEVICE)\n\u001b[1;32m    198\u001b[0m     \u001b[39mprint\u001b[39m(\u001b[39m\"\u001b[39m\u001b[39mTraining full model...\u001b[39m\u001b[39m\"\u001b[39m)\n",
      "Cell \u001b[0;32mIn[10], line 121\u001b[0m, in \u001b[0;36mgenerate_dataset\u001b[0;34m(note_range, n_per_interval)\u001b[0m\n\u001b[1;32m    119\u001b[0m \u001b[39mfor\u001b[39;00m interval \u001b[39min\u001b[39;00m INTERVALS:\n\u001b[1;32m    120\u001b[0m     \u001b[39mfor\u001b[39;00m _ \u001b[39min\u001b[39;00m \u001b[39mrange\u001b[39m(n_per_interval):\n\u001b[0;32m--> 121\u001b[0m         data\u001b[39m.\u001b[39mappend(generate_example(note_range, interval))\n\u001b[1;32m    122\u001b[0m random\u001b[39m.\u001b[39mshuffle(data)\n\u001b[1;32m    123\u001b[0m \u001b[39mreturn\u001b[39;00m data\n",
      "Cell \u001b[0;32mIn[10], line 96\u001b[0m, in \u001b[0;36mgenerate_example\u001b[0;34m(note_range, interval, x_choices)\u001b[0m\n\u001b[1;32m     93\u001b[0m C \u001b[39m=\u001b[39m random\u001b[39m.\u001b[39mchoice(\u001b[39mrange\u001b[39m(note_range[\u001b[39m0\u001b[39m], note_range[\u001b[39m1\u001b[39m] \u001b[39m-\u001b[39m interval))\n\u001b[1;32m     94\u001b[0m D \u001b[39m=\u001b[39m C \u001b[39m+\u001b[39m interval\n\u001b[0;32m---> 96\u001b[0m A_mel \u001b[39m=\u001b[39m note_to_mel(A)\n\u001b[1;32m     97\u001b[0m B_mel \u001b[39m=\u001b[39m note_to_mel(B)\n\u001b[1;32m     98\u001b[0m C_mel \u001b[39m=\u001b[39m note_to_mel(C)\n",
      "Cell \u001b[0;32mIn[10], line 45\u001b[0m, in \u001b[0;36mnote_to_mel\u001b[0;34m(midi_note)\u001b[0m\n\u001b[1;32m     43\u001b[0m \u001b[39mdef\u001b[39;00m \u001b[39mnote_to_mel\u001b[39m(midi_note):\n\u001b[1;32m     44\u001b[0m     wav \u001b[39m=\u001b[39m synthesize_note(midi_note)\n\u001b[0;32m---> 45\u001b[0m     mel \u001b[39m=\u001b[39m mel_transform(wav)\n\u001b[1;32m     46\u001b[0m     mel_db \u001b[39m=\u001b[39m db_transform(mel)\u001b[39m.\u001b[39msqueeze(\u001b[39m0\u001b[39m)\n\u001b[1;32m     47\u001b[0m     mel_db \u001b[39m=\u001b[39m (mel_db \u001b[39m-\u001b[39m mel_db\u001b[39m.\u001b[39mmean()) \u001b[39m/\u001b[39m mel_db\u001b[39m.\u001b[39mstd()  \u001b[39m# Normalization\u001b[39;00m\n",
      "File \u001b[0;32m/opt/homebrew/lib/python3.11/site-packages/torch/nn/modules/module.py:1751\u001b[0m, in \u001b[0;36mModule._wrapped_call_impl\u001b[0;34m(self, *args, **kwargs)\u001b[0m\n\u001b[1;32m   1749\u001b[0m     \u001b[39mreturn\u001b[39;00m \u001b[39mself\u001b[39m\u001b[39m.\u001b[39m_compiled_call_impl(\u001b[39m*\u001b[39margs, \u001b[39m*\u001b[39m\u001b[39m*\u001b[39mkwargs)  \u001b[39m# type: ignore[misc]\u001b[39;00m\n\u001b[1;32m   1750\u001b[0m \u001b[39melse\u001b[39;00m:\n\u001b[0;32m-> 1751\u001b[0m     \u001b[39mreturn\u001b[39;00m \u001b[39mself\u001b[39;49m\u001b[39m.\u001b[39;49m_call_impl(\u001b[39m*\u001b[39;49margs, \u001b[39m*\u001b[39;49m\u001b[39m*\u001b[39;49mkwargs)\n",
      "File \u001b[0;32m/opt/homebrew/lib/python3.11/site-packages/torch/nn/modules/module.py:1762\u001b[0m, in \u001b[0;36mModule._call_impl\u001b[0;34m(self, *args, **kwargs)\u001b[0m\n\u001b[1;32m   1757\u001b[0m \u001b[39m# If we don't have any hooks, we want to skip the rest of the logic in\u001b[39;00m\n\u001b[1;32m   1758\u001b[0m \u001b[39m# this function, and just call forward.\u001b[39;00m\n\u001b[1;32m   1759\u001b[0m \u001b[39mif\u001b[39;00m \u001b[39mnot\u001b[39;00m (\u001b[39mself\u001b[39m\u001b[39m.\u001b[39m_backward_hooks \u001b[39mor\u001b[39;00m \u001b[39mself\u001b[39m\u001b[39m.\u001b[39m_backward_pre_hooks \u001b[39mor\u001b[39;00m \u001b[39mself\u001b[39m\u001b[39m.\u001b[39m_forward_hooks \u001b[39mor\u001b[39;00m \u001b[39mself\u001b[39m\u001b[39m.\u001b[39m_forward_pre_hooks\n\u001b[1;32m   1760\u001b[0m         \u001b[39mor\u001b[39;00m _global_backward_pre_hooks \u001b[39mor\u001b[39;00m _global_backward_hooks\n\u001b[1;32m   1761\u001b[0m         \u001b[39mor\u001b[39;00m _global_forward_hooks \u001b[39mor\u001b[39;00m _global_forward_pre_hooks):\n\u001b[0;32m-> 1762\u001b[0m     \u001b[39mreturn\u001b[39;00m forward_call(\u001b[39m*\u001b[39;49margs, \u001b[39m*\u001b[39;49m\u001b[39m*\u001b[39;49mkwargs)\n\u001b[1;32m   1764\u001b[0m result \u001b[39m=\u001b[39m \u001b[39mNone\u001b[39;00m\n\u001b[1;32m   1765\u001b[0m called_always_called_hooks \u001b[39m=\u001b[39m \u001b[39mset\u001b[39m()\n",
      "File \u001b[0;32m/opt/homebrew/lib/python3.11/site-packages/torchaudio/transforms/_transforms.py:619\u001b[0m, in \u001b[0;36mMelSpectrogram.forward\u001b[0;34m(self, waveform)\u001b[0m\n\u001b[1;32m    611\u001b[0m \u001b[39mdef\u001b[39;00m \u001b[39mforward\u001b[39m(\u001b[39mself\u001b[39m, waveform: Tensor) \u001b[39m-\u001b[39m\u001b[39m>\u001b[39m Tensor:\n\u001b[1;32m    612\u001b[0m \u001b[39m    \u001b[39m\u001b[39mr\u001b[39m\u001b[39m\"\"\"\u001b[39;00m\n\u001b[1;32m    613\u001b[0m \u001b[39m    Args:\u001b[39;00m\n\u001b[1;32m    614\u001b[0m \u001b[39m        waveform (Tensor): Tensor of audio of dimension (..., time).\u001b[39;00m\n\u001b[0;32m   (...)\u001b[0m\n\u001b[1;32m    617\u001b[0m \u001b[39m        Tensor: Mel frequency spectrogram of size (..., ``n_mels``, time).\u001b[39;00m\n\u001b[1;32m    618\u001b[0m \u001b[39m    \"\"\"\u001b[39;00m\n\u001b[0;32m--> 619\u001b[0m     specgram \u001b[39m=\u001b[39m \u001b[39mself\u001b[39;49m\u001b[39m.\u001b[39;49mspectrogram(waveform)\n\u001b[1;32m    620\u001b[0m     mel_specgram \u001b[39m=\u001b[39m \u001b[39mself\u001b[39m\u001b[39m.\u001b[39mmel_scale(specgram)\n\u001b[1;32m    621\u001b[0m     \u001b[39mreturn\u001b[39;00m mel_specgram\n",
      "File \u001b[0;32m/opt/homebrew/lib/python3.11/site-packages/torch/nn/modules/module.py:1751\u001b[0m, in \u001b[0;36mModule._wrapped_call_impl\u001b[0;34m(self, *args, **kwargs)\u001b[0m\n\u001b[1;32m   1749\u001b[0m     \u001b[39mreturn\u001b[39;00m \u001b[39mself\u001b[39m\u001b[39m.\u001b[39m_compiled_call_impl(\u001b[39m*\u001b[39margs, \u001b[39m*\u001b[39m\u001b[39m*\u001b[39mkwargs)  \u001b[39m# type: ignore[misc]\u001b[39;00m\n\u001b[1;32m   1750\u001b[0m \u001b[39melse\u001b[39;00m:\n\u001b[0;32m-> 1751\u001b[0m     \u001b[39mreturn\u001b[39;00m \u001b[39mself\u001b[39;49m\u001b[39m.\u001b[39;49m_call_impl(\u001b[39m*\u001b[39;49margs, \u001b[39m*\u001b[39;49m\u001b[39m*\u001b[39;49mkwargs)\n",
      "File \u001b[0;32m/opt/homebrew/lib/python3.11/site-packages/torch/nn/modules/module.py:1762\u001b[0m, in \u001b[0;36mModule._call_impl\u001b[0;34m(self, *args, **kwargs)\u001b[0m\n\u001b[1;32m   1757\u001b[0m \u001b[39m# If we don't have any hooks, we want to skip the rest of the logic in\u001b[39;00m\n\u001b[1;32m   1758\u001b[0m \u001b[39m# this function, and just call forward.\u001b[39;00m\n\u001b[1;32m   1759\u001b[0m \u001b[39mif\u001b[39;00m \u001b[39mnot\u001b[39;00m (\u001b[39mself\u001b[39m\u001b[39m.\u001b[39m_backward_hooks \u001b[39mor\u001b[39;00m \u001b[39mself\u001b[39m\u001b[39m.\u001b[39m_backward_pre_hooks \u001b[39mor\u001b[39;00m \u001b[39mself\u001b[39m\u001b[39m.\u001b[39m_forward_hooks \u001b[39mor\u001b[39;00m \u001b[39mself\u001b[39m\u001b[39m.\u001b[39m_forward_pre_hooks\n\u001b[1;32m   1760\u001b[0m         \u001b[39mor\u001b[39;00m _global_backward_pre_hooks \u001b[39mor\u001b[39;00m _global_backward_hooks\n\u001b[1;32m   1761\u001b[0m         \u001b[39mor\u001b[39;00m _global_forward_hooks \u001b[39mor\u001b[39;00m _global_forward_pre_hooks):\n\u001b[0;32m-> 1762\u001b[0m     \u001b[39mreturn\u001b[39;00m forward_call(\u001b[39m*\u001b[39;49margs, \u001b[39m*\u001b[39;49m\u001b[39m*\u001b[39;49mkwargs)\n\u001b[1;32m   1764\u001b[0m result \u001b[39m=\u001b[39m \u001b[39mNone\u001b[39;00m\n\u001b[1;32m   1765\u001b[0m called_always_called_hooks \u001b[39m=\u001b[39m \u001b[39mset\u001b[39m()\n",
      "File \u001b[0;32m/opt/homebrew/lib/python3.11/site-packages/torchaudio/transforms/_transforms.py:110\u001b[0m, in \u001b[0;36mSpectrogram.forward\u001b[0;34m(self, waveform)\u001b[0m\n\u001b[1;32m    100\u001b[0m \u001b[39mdef\u001b[39;00m \u001b[39mforward\u001b[39m(\u001b[39mself\u001b[39m, waveform: Tensor) \u001b[39m-\u001b[39m\u001b[39m>\u001b[39m Tensor:\n\u001b[1;32m    101\u001b[0m \u001b[39m    \u001b[39m\u001b[39mr\u001b[39m\u001b[39m\"\"\"\u001b[39;00m\n\u001b[1;32m    102\u001b[0m \u001b[39m    Args:\u001b[39;00m\n\u001b[1;32m    103\u001b[0m \u001b[39m        waveform (Tensor): Tensor of audio of dimension (..., time).\u001b[39;00m\n\u001b[0;32m   (...)\u001b[0m\n\u001b[1;32m    108\u001b[0m \u001b[39m        Fourier bins, and time is the number of window hops (n_frame).\u001b[39;00m\n\u001b[1;32m    109\u001b[0m \u001b[39m    \"\"\"\u001b[39;00m\n\u001b[0;32m--> 110\u001b[0m     \u001b[39mreturn\u001b[39;00m F\u001b[39m.\u001b[39;49mspectrogram(\n\u001b[1;32m    111\u001b[0m         waveform,\n\u001b[1;32m    112\u001b[0m         \u001b[39mself\u001b[39;49m\u001b[39m.\u001b[39;49mpad,\n\u001b[1;32m    113\u001b[0m         \u001b[39mself\u001b[39;49m\u001b[39m.\u001b[39;49mwindow,\n\u001b[1;32m    114\u001b[0m         \u001b[39mself\u001b[39;49m\u001b[39m.\u001b[39;49mn_fft,\n\u001b[1;32m    115\u001b[0m         \u001b[39mself\u001b[39;49m\u001b[39m.\u001b[39;49mhop_length,\n\u001b[1;32m    116\u001b[0m         \u001b[39mself\u001b[39;49m\u001b[39m.\u001b[39;49mwin_length,\n\u001b[1;32m    117\u001b[0m         \u001b[39mself\u001b[39;49m\u001b[39m.\u001b[39;49mpower,\n\u001b[1;32m    118\u001b[0m         \u001b[39mself\u001b[39;49m\u001b[39m.\u001b[39;49mnormalized,\n\u001b[1;32m    119\u001b[0m         \u001b[39mself\u001b[39;49m\u001b[39m.\u001b[39;49mcenter,\n\u001b[1;32m    120\u001b[0m         \u001b[39mself\u001b[39;49m\u001b[39m.\u001b[39;49mpad_mode,\n\u001b[1;32m    121\u001b[0m         \u001b[39mself\u001b[39;49m\u001b[39m.\u001b[39;49monesided,\n\u001b[1;32m    122\u001b[0m     )\n",
      "File \u001b[0;32m/opt/homebrew/lib/python3.11/site-packages/torchaudio/functional/functional.py:140\u001b[0m, in \u001b[0;36mspectrogram\u001b[0;34m(waveform, pad, window, n_fft, hop_length, win_length, power, normalized, center, pad_mode, onesided, return_complex)\u001b[0m\n\u001b[1;32m    126\u001b[0m spec_f \u001b[39m=\u001b[39m torch\u001b[39m.\u001b[39mstft(\n\u001b[1;32m    127\u001b[0m     \u001b[39minput\u001b[39m\u001b[39m=\u001b[39mwaveform,\n\u001b[1;32m    128\u001b[0m     n_fft\u001b[39m=\u001b[39mn_fft,\n\u001b[0;32m   (...)\u001b[0m\n\u001b[1;32m    136\u001b[0m     return_complex\u001b[39m=\u001b[39m\u001b[39mTrue\u001b[39;00m,\n\u001b[1;32m    137\u001b[0m )\n\u001b[1;32m    139\u001b[0m \u001b[39m# unpack batch\u001b[39;00m\n\u001b[0;32m--> 140\u001b[0m spec_f \u001b[39m=\u001b[39m spec_f\u001b[39m.\u001b[39;49mreshape(shape[:\u001b[39m-\u001b[39;49m\u001b[39m1\u001b[39;49m] \u001b[39m+\u001b[39;49m spec_f\u001b[39m.\u001b[39;49mshape[\u001b[39m-\u001b[39;49m\u001b[39m2\u001b[39;49m:])\n\u001b[1;32m    142\u001b[0m \u001b[39mif\u001b[39;00m window_norm:\n\u001b[1;32m    143\u001b[0m     spec_f \u001b[39m/\u001b[39m\u001b[39m=\u001b[39m window\u001b[39m.\u001b[39mpow(\u001b[39m2.0\u001b[39m)\u001b[39m.\u001b[39msum()\u001b[39m.\u001b[39msqrt()\n",
      "\u001b[0;31mKeyboardInterrupt\u001b[0m: "
     ]
    }
   ],
   "source": [
    "run_train_and_save()"
   ]
  },
  {
   "cell_type": "code",
   "execution_count": 7,
   "id": "fed099cb",
   "metadata": {},
   "outputs": [
    {
     "name": "stdout",
     "output_type": "stream",
     "text": [
      "Evaluating on lower octave interval generalization...\n",
      "Interval 1: Accuracy = 0.1200, Time = 2.01s\n",
      "Interval 2: Accuracy = 0.1400, Time = 2.01s\n",
      "Interval 3: Accuracy = 0.1100, Time = 1.98s\n",
      "Interval 4: Accuracy = 0.0800, Time = 1.84s\n",
      "Interval 5: Accuracy = 0.1100, Time = 1.84s\n",
      "Interval 6: Accuracy = 0.0800, Time = 1.78s\n",
      "Interval 7: Accuracy = 0.1300, Time = 1.77s\n",
      "Interval 8: Accuracy = 0.1200, Time = 1.77s\n",
      "Interval 9: Accuracy = 0.1600, Time = 1.84s\n",
      "Interval 10: Accuracy = 0.1700, Time = 1.82s\n",
      "Interval 11: Accuracy = 0.1100, Time = 1.79s\n",
      "Interval 12: Accuracy = 0.1600, Time = 1.79s\n"
     ]
    },
    {
     "data": {
      "image/png": "[encoded data removed]",
      "text/plain": [
       "<Figure size 1000x600 with 1 Axes>"
      ]
     },
     "metadata": {},
     "output_type": "display_data"
    }
   ],
   "source": [
    "run_evaluate_saved_model()"
   ]
  }
 ],
 "metadata": {
  "kernelspec": {
   "display_name": "Python 3",
   "language": "python",
   "name": "python3"
  },
  "language_info": {
   "codemirror_mode": {
    "name": "ipython",
    "version": 3
   },
   "file_extension": ".py",
   "mimetype": "text/x-python",
   "name": "python",
   "nbconvert_exporter": "python",
   "pygments_lexer": "ipython3",
   "version": "3.11.5"
  }
 },
 "nbformat": 4,
 "nbformat_minor": 5
}
